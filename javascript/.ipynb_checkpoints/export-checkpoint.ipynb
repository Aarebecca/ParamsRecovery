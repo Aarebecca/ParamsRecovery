{
 "cells": [
  {
   "cell_type": "code",
   "execution_count": 7,
   "id": "9755ae4c",
   "metadata": {},
   "outputs": [],
   "source": [
    "import os\n",
    "import gzip\n",
    "import json\n",
    "import glob"
   ]
  },
  {
   "cell_type": "code",
   "execution_count": 9,
   "id": "c6e5ebe4",
   "metadata": {},
   "outputs": [
    {
     "data": {
      "text/plain": [
       "['./javascript/final/jsonl\\\\test\\\\javascript_test_0.jsonl.gz',\n",
       " './javascript/final/jsonl\\\\train\\\\javascript_train_0.jsonl.gz',\n",
       " './javascript/final/jsonl\\\\train\\\\javascript_train_1.jsonl.gz',\n",
       " './javascript/final/jsonl\\\\train\\\\javascript_train_2.jsonl.gz',\n",
       " './javascript/final/jsonl\\\\train\\\\javascript_train_3.jsonl.gz',\n",
       " './javascript/final/jsonl\\\\train\\\\javascript_train_4.jsonl.gz',\n",
       " './javascript/final/jsonl\\\\valid\\\\javascript_valid_0.jsonl.gz']"
      ]
     },
     "execution_count": 9,
     "metadata": {},
     "output_type": "execute_result"
    }
   ],
   "source": [
    "path_pattern = \"./javascript/final/jsonl/*/javascript_*_*.jsonl.gz\"\n",
    "files_path = glob.glob(path_pattern)\n",
    "files_path"
   ]
  },
  {
   "cell_type": "code",
   "execution_count": 29,
   "id": "db74be33",
   "metadata": {},
   "outputs": [
    {
     "name": "stdout",
     "output_type": "stream",
     "text": [
      "./export\\test javascript_test_0.json\n",
      "./export\\train javascript_train_0.json\n",
      "./export\\train javascript_train_1.json\n",
      "./export\\train javascript_train_2.json\n",
      "./export\\train javascript_train_3.json\n",
      "./export\\train javascript_train_4.json\n",
      "./export\\valid javascript_valid_0.json\n"
     ]
    }
   ],
   "source": [
    "save_dir = './export'\n",
    "for path in files_path:\n",
    "    output = []\n",
    "    with gzip.open(path, 'r') as f:\n",
    "        for line in f:\n",
    "            data = json.loads(line.decode())\n",
    "            output.append({\n",
    "                \"code\": data['code'],\n",
    "                \"code_tokens\": data['code_tokens']\n",
    "            })\n",
    "    file_path, file_name = os.path.split(path.split('jsonl\\\\')[1])\n",
    "    file_path = os.path.join(save_dir, file_path)\n",
    "    file_name = file_name.replace('jsonl.gz', 'json')\n",
    "    print(file_path, file_name)\n",
    "    \n",
    "    if not os.path.exists(file_path):\n",
    "        os.mkdir(file_path)\n",
    "    with open(os.path.join(file_path, file_name), 'w') as f:\n",
    "        json.dump(output, f)"
   ]
  }
 ],
 "metadata": {
  "kernelspec": {
   "display_name": "Python 3 (ipykernel)",
   "language": "python",
   "name": "python3"
  },
  "language_info": {
   "codemirror_mode": {
    "name": "ipython",
    "version": 3
   },
   "file_extension": ".py",
   "mimetype": "text/x-python",
   "name": "python",
   "nbconvert_exporter": "python",
   "pygments_lexer": "ipython3",
   "version": "3.9.7"
  }
 },
 "nbformat": 4,
 "nbformat_minor": 5
}
